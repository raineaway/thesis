{
 "cells": [
  {
   "cell_type": "markdown",
   "metadata": {},
   "source": [
    "# KNN on LIWC\n"
   ]
  },
  {
   "cell_type": "markdown",
   "metadata": {},
   "source": [
    "Import the required packages."
   ]
  },
  {
   "cell_type": "code",
   "execution_count": 5,
   "metadata": {
    "collapsed": true
   },
   "outputs": [],
   "source": [
    "import os\n",
    "import numpy as np\n",
    "from sklearn.metrics import confusion_matrix\n",
    "from sklearn.model_selection import StratifiedKFold\n",
    "from sklearn.neighbors import KNeighborsClassifier\n",
    "\n",
    "import pandas as pd\n",
    "import pprint\n",
    "from ast import literal_eval"
   ]
  },
  {
   "cell_type": "markdown",
   "metadata": {},
   "source": [
    "Read the dataset, and create the data and label arrays."
   ]
  },
  {
   "cell_type": "code",
   "execution_count": 6,
   "metadata": {
    "collapsed": false
   },
   "outputs": [
    {
     "name": "stdout",
     "output_type": "stream",
     "text": [
      "Total number of documents: 6294\n"
     ]
    }
   ],
   "source": [
    "corpus = pd.read_csv('gm_test_liwc_all.csv');\n",
    "\n",
    "labels = []\n",
    "for news in corpus['class']:\n",
    "    labels.append(news)\n",
    "\n",
    "del corpus['class']\n",
    "data = corpus.values.tolist()\n",
    "\n",
    "print \"Total number of documents: \" + str(len(data))"
   ]
  },
  {
   "cell_type": "markdown",
   "metadata": {},
   "source": [
    "## Training and Validation"
   ]
  },
  {
   "cell_type": "code",
   "execution_count": 7,
   "metadata": {
    "collapsed": false
   },
   "outputs": [
    {
     "name": "stdout",
     "output_type": "stream",
     "text": [
      "*************************************************\n",
      "Running validation on k = 2\n",
      "\n",
      "\n",
      "=============================================\n",
      "totalMat: \n",
      "[[ 3163.     8.]\n",
      " [   13.  3110.]]\n",
      "total: \n",
      "0.996663489037\n",
      "*************************************************\n",
      "Running validation on k = 3\n",
      "\n",
      "\n",
      "=============================================\n",
      "totalMat: \n",
      "[[ 3163.     8.]\n",
      " [   11.  3112.]]\n",
      "total: \n",
      "0.996981251986\n",
      "*************************************************\n",
      "Running validation on k = 10\n",
      "\n",
      "\n",
      "=============================================\n",
      "totalMat: \n",
      "[[ 3165.     6.]\n",
      " [    9.  3114.]]\n",
      "total: \n",
      "0.997616777884\n"
     ]
    }
   ],
   "source": [
    "#Stratified 10-cross fold validation with SVM and Multinomial NB \n",
    "      \n",
    "kvalues = [2, 3, 10]\n",
    "count = float(len(data))\n",
    "\n",
    "for k in kvalues:\n",
    "\n",
    "    print \"*************************************************\"\n",
    "    print \"Running validation on k = \" + str(k)\n",
    "    \n",
    "    kf = StratifiedKFold(n_splits=k)\n",
    "\n",
    "    \n",
    "    print \"\\n\"\n",
    "    print \"=============================================\"\n",
    "    \n",
    "    total = 0\n",
    "    totalMat = np.zeros((2,2));\n",
    "\n",
    "    for train_index, test_index in kf.split(data,labels):\n",
    "        X_train = [data[i] for i in train_index]\n",
    "        X_test = [data[i] for i in test_index]\n",
    "        y_train = [labels[i] for i in train_index]\n",
    "        y_test = [labels[i] for i in test_index]\n",
    "        \n",
    "        model = KNeighborsClassifier(n_neighbors=3)\n",
    "        \n",
    "        model.fit(X_train,y_train)\n",
    "        \n",
    "        result = model.predict(X_test)\n",
    "        \n",
    "        totalMat = totalMat + confusion_matrix(y_test, result)\n",
    "        \n",
    "        total = total+sum(y_test==result)\n",
    "        \n",
    "    print(\"totalMat: \")\n",
    "    print(totalMat)\n",
    "    print(\"total: \")\n",
    "    print(total/count)"
   ]
  }
 ],
 "metadata": {
  "kernelspec": {
   "display_name": "Python 2",
   "language": "python",
   "name": "python2"
  },
  "language_info": {
   "codemirror_mode": {
    "name": "ipython",
    "version": 2
   },
   "file_extension": ".py",
   "mimetype": "text/x-python",
   "name": "python",
   "nbconvert_exporter": "python",
   "pygments_lexer": "ipython2",
   "version": "2.7.13"
  }
 },
 "nbformat": 4,
 "nbformat_minor": 2
}

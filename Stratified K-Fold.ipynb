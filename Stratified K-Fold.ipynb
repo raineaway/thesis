{
 "cells": [
  {
   "cell_type": "markdown",
   "metadata": {},
   "source": [
    "# Stratified k-Fold Cross Validation\n",
    "\n",
    "### Vectorizers:\n",
    "TFIDF, Token Count\n",
    "\n",
    "### Machine Learning Models:\n",
    "SVM (linear)\n",
    "SVM (RBF)\n",
    "Naive Bayes\n",
    "\n",
    "\n",
    "### Description\n",
    "These feature extraction methods and machine learning models are combined and ran using k-fold cross validation, with values of k = 2, 3, and 10. Feature statistics are also extracted for further analysis."
   ]
  },
  {
   "cell_type": "markdown",
   "metadata": {},
   "source": [
    "Import the required packages."
   ]
  },
  {
   "cell_type": "code",
   "execution_count": 7,
   "metadata": {
    "collapsed": true
   },
   "outputs": [],
   "source": [
    "import os\n",
    "import numpy as np\n",
    "from sklearn.naive_bayes import MultinomialNB\n",
    "from sklearn.metrics import confusion_matrix\n",
    "from sklearn.svm import LinearSVC, SVC\n",
    "from sklearn.feature_extraction.text import TfidfVectorizer, CountVectorizer\n",
    "from sklearn.model_selection import StratifiedKFold\n",
    "from sklearn.model_selection import GridSearchCV\n",
    "from sklearn.metrics import classification_report\n",
    "\n",
    "import pandas as pd\n",
    "import pprint\n",
    "from ast import literal_eval\n",
    "\n",
    "from __future__ import print_function"
   ]
  },
  {
   "cell_type": "markdown",
   "metadata": {},
   "source": [
    "Read the dataset, and create the data and label arrays."
   ]
  },
  {
   "cell_type": "code",
   "execution_count": 2,
   "metadata": {
    "collapsed": false
   },
   "outputs": [],
   "source": [
    "corpus = pd.read_csv('gm_fake_or_real_equal.csv');\n",
    "\n",
    "data = []\n",
    "labels = []\n",
    "for news in corpus['text']:\n",
    "    data.append(news)\n",
    "\n",
    "for news in corpus['class']:\n",
    "    labels.append(news)\n",
    "\n",
    "print \"Total number of articles: \" + str(len(data))"
   ]
  },
  {
   "cell_type": "markdown",
   "metadata": {},
   "source": [
    "### Feature Extraction\n",
    "\n",
    "We extract the top features from each vectorizer."
   ]
  },
  {
   "cell_type": "code",
   "execution_count": null,
   "metadata": {
    "collapsed": false
   },
   "outputs": [],
   "source": [
    "vectorizer = TfidfVectorizer(min_df=5, max_df = 0.8, sublinear_tf=True, use_idf=True, stop_words='english',\n",
    "                                 max_features=25,\n",
    "                                 token_pattern=ur'(?u)\\b[^\\W\\d][^\\W\\d]+\\b')\n",
    "tf_idf = vectorizer.fit_transform(data)\n",
    "    \n",
    "features = vectorizer.get_feature_names()\n",
    "\n",
    "print \"Top 25 features for TFIDF: \"\n",
    "pp = pprint.PrettyPrinter(indent=4)\n",
    "pp.pprint(features)"
   ]
  },
  {
   "cell_type": "code",
   "execution_count": null,
   "metadata": {
    "collapsed": false
   },
   "outputs": [],
   "source": [
    "vectorizer = CountVectorizer(min_df=5, max_df = 0.8, stop_words='english',\n",
    "                                 max_features=25,\n",
    "                                 token_pattern=ur'(?u)\\b[^\\W\\d][^\\W\\d]+\\b')\n",
    "tf_idf = vectorizer.fit_transform(data)\n",
    "    \n",
    "features = vectorizer.get_feature_names()\n",
    "\n",
    "print \"Top 25 features for Count: \"\n",
    "pp = pprint.PrettyPrinter(indent=4)\n",
    "pp.pprint(features)"
   ]
  },
  {
   "cell_type": "markdown",
   "metadata": {},
   "source": [
    "## Training and Validation"
   ]
  },
  {
   "cell_type": "code",
   "execution_count": 6,
   "metadata": {
    "collapsed": false
   },
   "outputs": [
    {
     "name": "stdout",
     "output_type": "stream",
     "text": [
      "*************************************************\n",
      "Running validation on k = 2\n",
      "\n",
      "\n",
      "=============================================\n",
      "Feature extraction: TFIDF\n",
      "\n",
      "Number of fake samples: \n",
      "1564\n",
      "Number of real samples: \n",
      "1564\n",
      "Number of fake tests: \n",
      "1564\n",
      "Number of real tests: \n",
      "1564\n"
     ]
    },
    {
     "ename": "KeyboardInterrupt",
     "evalue": "",
     "output_type": "error",
     "traceback": [
      "\u001b[0;31m---------------------------------------------------------------------------\u001b[0m",
      "\u001b[0;31mKeyboardInterrupt\u001b[0m                         Traceback (most recent call last)",
      "\u001b[0;32m<ipython-input-6-f2a8197c2987>\u001b[0m in \u001b[0;36m<module>\u001b[0;34m()\u001b[0m\n\u001b[1;32m     57\u001b[0m         \u001b[0mmodel1\u001b[0m\u001b[0;34m.\u001b[0m\u001b[0mfit\u001b[0m\u001b[0;34m(\u001b[0m\u001b[0mtrain_corpus_tf_idf\u001b[0m\u001b[0;34m,\u001b[0m\u001b[0my_train\u001b[0m\u001b[0;34m)\u001b[0m\u001b[0;34m\u001b[0m\u001b[0m\n\u001b[1;32m     58\u001b[0m         \u001b[0mmodel2\u001b[0m\u001b[0;34m.\u001b[0m\u001b[0mfit\u001b[0m\u001b[0;34m(\u001b[0m\u001b[0mtrain_corpus_tf_idf\u001b[0m\u001b[0;34m,\u001b[0m\u001b[0my_train\u001b[0m\u001b[0;34m)\u001b[0m\u001b[0;34m\u001b[0m\u001b[0m\n\u001b[0;32m---> 59\u001b[0;31m         \u001b[0mmodel3\u001b[0m\u001b[0;34m.\u001b[0m\u001b[0mfit\u001b[0m\u001b[0;34m(\u001b[0m\u001b[0mtrain_corpus_tf_idf\u001b[0m\u001b[0;34m,\u001b[0m\u001b[0my_train\u001b[0m\u001b[0;34m)\u001b[0m\u001b[0;34m\u001b[0m\u001b[0m\n\u001b[0m\u001b[1;32m     60\u001b[0m \u001b[0;34m\u001b[0m\u001b[0m\n\u001b[1;32m     61\u001b[0m         \u001b[0mresult1\u001b[0m \u001b[0;34m=\u001b[0m \u001b[0mmodel1\u001b[0m\u001b[0;34m.\u001b[0m\u001b[0mpredict\u001b[0m\u001b[0;34m(\u001b[0m\u001b[0mtest_corpus_tf_idf\u001b[0m\u001b[0;34m)\u001b[0m\u001b[0;34m\u001b[0m\u001b[0m\n",
      "\u001b[0;32m/home/raine/anaconda2/lib/python2.7/site-packages/sklearn/svm/base.pyc\u001b[0m in \u001b[0;36mfit\u001b[0;34m(self, X, y, sample_weight)\u001b[0m\n\u001b[1;32m    187\u001b[0m \u001b[0;34m\u001b[0m\u001b[0m\n\u001b[1;32m    188\u001b[0m         \u001b[0mseed\u001b[0m \u001b[0;34m=\u001b[0m \u001b[0mrnd\u001b[0m\u001b[0;34m.\u001b[0m\u001b[0mrandint\u001b[0m\u001b[0;34m(\u001b[0m\u001b[0mnp\u001b[0m\u001b[0;34m.\u001b[0m\u001b[0miinfo\u001b[0m\u001b[0;34m(\u001b[0m\u001b[0;34m'i'\u001b[0m\u001b[0;34m)\u001b[0m\u001b[0;34m.\u001b[0m\u001b[0mmax\u001b[0m\u001b[0;34m)\u001b[0m\u001b[0;34m\u001b[0m\u001b[0m\n\u001b[0;32m--> 189\u001b[0;31m         \u001b[0mfit\u001b[0m\u001b[0;34m(\u001b[0m\u001b[0mX\u001b[0m\u001b[0;34m,\u001b[0m \u001b[0my\u001b[0m\u001b[0;34m,\u001b[0m \u001b[0msample_weight\u001b[0m\u001b[0;34m,\u001b[0m \u001b[0msolver_type\u001b[0m\u001b[0;34m,\u001b[0m \u001b[0mkernel\u001b[0m\u001b[0;34m,\u001b[0m \u001b[0mrandom_seed\u001b[0m\u001b[0;34m=\u001b[0m\u001b[0mseed\u001b[0m\u001b[0;34m)\u001b[0m\u001b[0;34m\u001b[0m\u001b[0m\n\u001b[0m\u001b[1;32m    190\u001b[0m         \u001b[0;31m# see comment on the other call to np.iinfo in this file\u001b[0m\u001b[0;34m\u001b[0m\u001b[0;34m\u001b[0m\u001b[0m\n\u001b[1;32m    191\u001b[0m \u001b[0;34m\u001b[0m\u001b[0m\n",
      "\u001b[0;32m/home/raine/anaconda2/lib/python2.7/site-packages/sklearn/svm/base.pyc\u001b[0m in \u001b[0;36m_sparse_fit\u001b[0;34m(self, X, y, sample_weight, solver_type, kernel, random_seed)\u001b[0m\n\u001b[1;32m    276\u001b[0m                 \u001b[0msample_weight\u001b[0m\u001b[0;34m,\u001b[0m \u001b[0mself\u001b[0m\u001b[0;34m.\u001b[0m\u001b[0mnu\u001b[0m\u001b[0;34m,\u001b[0m \u001b[0mself\u001b[0m\u001b[0;34m.\u001b[0m\u001b[0mcache_size\u001b[0m\u001b[0;34m,\u001b[0m \u001b[0mself\u001b[0m\u001b[0;34m.\u001b[0m\u001b[0mepsilon\u001b[0m\u001b[0;34m,\u001b[0m\u001b[0;34m\u001b[0m\u001b[0m\n\u001b[1;32m    277\u001b[0m                 \u001b[0mint\u001b[0m\u001b[0;34m(\u001b[0m\u001b[0mself\u001b[0m\u001b[0;34m.\u001b[0m\u001b[0mshrinking\u001b[0m\u001b[0;34m)\u001b[0m\u001b[0;34m,\u001b[0m \u001b[0mint\u001b[0m\u001b[0;34m(\u001b[0m\u001b[0mself\u001b[0m\u001b[0;34m.\u001b[0m\u001b[0mprobability\u001b[0m\u001b[0;34m)\u001b[0m\u001b[0;34m,\u001b[0m \u001b[0mself\u001b[0m\u001b[0;34m.\u001b[0m\u001b[0mmax_iter\u001b[0m\u001b[0;34m,\u001b[0m\u001b[0;34m\u001b[0m\u001b[0m\n\u001b[0;32m--> 278\u001b[0;31m                 random_seed)\n\u001b[0m\u001b[1;32m    279\u001b[0m \u001b[0;34m\u001b[0m\u001b[0m\n\u001b[1;32m    280\u001b[0m         \u001b[0mself\u001b[0m\u001b[0;34m.\u001b[0m\u001b[0m_warn_from_fit_status\u001b[0m\u001b[0;34m(\u001b[0m\u001b[0;34m)\u001b[0m\u001b[0;34m\u001b[0m\u001b[0m\n",
      "\u001b[0;32msklearn/svm/libsvm_sparse.pyx\u001b[0m in \u001b[0;36msklearn.svm.libsvm_sparse.libsvm_sparse_train (sklearn/svm/libsvm_sparse.c:2793)\u001b[0;34m()\u001b[0m\n",
      "\u001b[0;32m/home/raine/anaconda2/lib/python2.7/site-packages/scipy/sparse/compressed.pyc\u001b[0m in \u001b[0;36m__init__\u001b[0;34m(self, arg1, shape, dtype, copy)\u001b[0m\n\u001b[1;32m     22\u001b[0m     \u001b[0;34m\"\"\"base matrix class for compressed row and column oriented matrices\"\"\"\u001b[0m\u001b[0;34m\u001b[0m\u001b[0m\n\u001b[1;32m     23\u001b[0m \u001b[0;34m\u001b[0m\u001b[0m\n\u001b[0;32m---> 24\u001b[0;31m     \u001b[0;32mdef\u001b[0m \u001b[0m__init__\u001b[0m\u001b[0;34m(\u001b[0m\u001b[0mself\u001b[0m\u001b[0;34m,\u001b[0m \u001b[0marg1\u001b[0m\u001b[0;34m,\u001b[0m \u001b[0mshape\u001b[0m\u001b[0;34m=\u001b[0m\u001b[0mNone\u001b[0m\u001b[0;34m,\u001b[0m \u001b[0mdtype\u001b[0m\u001b[0;34m=\u001b[0m\u001b[0mNone\u001b[0m\u001b[0;34m,\u001b[0m \u001b[0mcopy\u001b[0m\u001b[0;34m=\u001b[0m\u001b[0mFalse\u001b[0m\u001b[0;34m)\u001b[0m\u001b[0;34m:\u001b[0m\u001b[0;34m\u001b[0m\u001b[0m\n\u001b[0m\u001b[1;32m     25\u001b[0m         \u001b[0m_data_matrix\u001b[0m\u001b[0;34m.\u001b[0m\u001b[0m__init__\u001b[0m\u001b[0;34m(\u001b[0m\u001b[0mself\u001b[0m\u001b[0;34m)\u001b[0m\u001b[0;34m\u001b[0m\u001b[0m\n\u001b[1;32m     26\u001b[0m \u001b[0;34m\u001b[0m\u001b[0m\n",
      "\u001b[0;31mKeyboardInterrupt\u001b[0m: "
     ]
    }
   ],
   "source": [
    "#Stratified 10-cross fold validation with SVM and Multinomial NB \n",
    "      \n",
    "kvalues = [2, 3, 10]\n",
    "count = float(len(data))\n",
    "\n",
    "for k in kvalues:\n",
    "\n",
    "    print \"*************************************************\"\n",
    "    print \"Running validation on k = \" + str(k)\n",
    "    \n",
    "    kf = StratifiedKFold(n_splits=k)\n",
    "    \n",
    "\n",
    "    print \"\\n\"\n",
    "    print \"=============================================\"\n",
    "    print \"Feature extraction: TFIDF\\n\"\n",
    "    \n",
    "    totalsvm = 0           # Accuracy measure\n",
    "    totalNB = 0\n",
    "    totalrbf = 0\n",
    "    totalMatSvm = np.zeros((2,2));  # Confusion matrix\n",
    "    totalMatNB = np.zeros((2,2));\n",
    "    totalMatRbf = np.zeros((2,2));\n",
    "\n",
    "    for train_index, test_index in kf.split(data,labels):\n",
    "        X_train = [data[i] for i in train_index]\n",
    "        X_test = [data[i] for i in test_index]\n",
    "        y_train = [labels[i] for i in train_index]\n",
    "        y_test = [labels[i] for i in test_index]\n",
    "    \n",
    "        vectorizer = TfidfVectorizer(min_df=5,\n",
    "                                     max_df = 0.8,\n",
    "                                     sublinear_tf=True,\n",
    "                                     use_idf=True,\n",
    "                                     stop_words='english',\n",
    "                                     token_pattern=ur'(?u)\\b[^\\W\\d][^\\W\\d]+\\b')\n",
    "\n",
    "        train_corpus_tf_idf = vectorizer.fit_transform(X_train) \n",
    "        test_corpus_tf_idf = vectorizer.transform(X_test)\n",
    "    \n",
    "        model1 = LinearSVC()\n",
    "        model2 = MultinomialNB() \n",
    "        model3 = SVC(probability=True, C=1000)\n",
    "    \n",
    "        model1.fit(train_corpus_tf_idf,y_train)\n",
    "        model2.fit(train_corpus_tf_idf,y_train)\n",
    "        model3.fit(train_corpus_tf_idf,y_train)\n",
    "    \n",
    "        result1 = model1.predict(test_corpus_tf_idf)\n",
    "        result2 = model2.predict(test_corpus_tf_idf)\n",
    "        result3 = model3.predict(test_corpus_tf_idf)\n",
    "    \n",
    "        totalMatSvm = totalMatSvm + confusion_matrix(y_test, result1)\n",
    "        totalMatNB = totalMatNB + confusion_matrix(y_test, result2)\n",
    "        totalMatRbf = totalMatRbf + confusion_matrix(y_test, result3)\n",
    "        \n",
    "        totalsvm = totalsvm+sum(y_test==result1)\n",
    "        totalNB = totalNB+sum(y_test==result2)\n",
    "        totalrbf = totalrbf+sum(y_test==result3)\n",
    "        \n",
    "    print(\"totalMatSvm: \")\n",
    "    print(totalMatSvm)\n",
    "    print(\"totalsvm: \")\n",
    "    print(totalsvm/count)\n",
    "    print \"\\n\"\n",
    "    print(\"totalMatNB: \")\n",
    "    print(totalMatNB)\n",
    "    print(\"totalNB: \")\n",
    "    print(totalNB/count)\n",
    "    print \"\\n\"\n",
    "    print(\"totalMatRbf: \")\n",
    "    print(totalMatRbf)\n",
    "    print(\"totalrbf: \")\n",
    "    print(totalrbf/count)\n",
    "    print \"\\n\"\n",
    "    \n",
    "    \n",
    "    \n",
    "    \n",
    "    print \"=============================================\"\n",
    "    print \"Feature extraction: Token Count\"\n",
    "    print \"\\n\"\n",
    "    \n",
    "    totalsvm = 0           # Accuracy measure\n",
    "    totalNB = 0\n",
    "    totalrbf = 0\n",
    "    totalMatSvm = np.zeros((2,2));  # Confusion matrix\n",
    "    totalMatNB = np.zeros((2,2));\n",
    "    totalMatRbf = np.zeros((2,2));\n",
    "    \n",
    "    for train_index, test_index in kf.split(data,labels):\n",
    "        X_train = [data[i] for i in train_index]\n",
    "        X_test = [data[i] for i in test_index]\n",
    "        y_train = [labels[i] for i in train_index]\n",
    "        y_test = [labels[i] for i in test_index]\n",
    "    \n",
    "        vectorizer = CountVectorizer(min_df=5,\n",
    "                                     max_df = 0.8,\n",
    "                                     stop_words='english',\n",
    "                                     token_pattern=ur'(?u)\\b[^\\W\\d][^\\W\\d]+\\b')\n",
    "        train_corpus_tf_idf = vectorizer.fit_transform(X_train) \n",
    "        test_corpus_tf_idf = vectorizer.transform(X_test)\n",
    "    \n",
    "        model1 = LinearSVC()\n",
    "        model2 = MultinomialNB() \n",
    "        model3 = SVC(probability=True, C=1000)\n",
    "    \n",
    "        model1.fit(train_corpus_tf_idf,y_train)\n",
    "        model2.fit(train_corpus_tf_idf,y_train)\n",
    "        model3.fit(train_corpus_tf_idf,y_train)\n",
    "    \n",
    "        result1 = model1.predict(test_corpus_tf_idf)\n",
    "        result2 = model2.predict(test_corpus_tf_idf)\n",
    "        result3 = model3.predict(test_corpus_tf_idf)\n",
    "    \n",
    "        totalMatSvm = totalMatSvm + confusion_matrix(y_test, result1)\n",
    "        totalMatNB = totalMatNB + confusion_matrix(y_test, result2)\n",
    "        totalMatRbf = totalMatRbf + confusion_matrix(y_test, result3)\n",
    "        \n",
    "        totalsvm = totalsvm+sum(y_test==result1)\n",
    "        totalNB = totalNB+sum(y_test==result2)\n",
    "        totalrbf = totalrbf+sum(y_test==result3)\n",
    "        \n",
    "    print(\"totalMatSvm: \")\n",
    "    print(totalMatSvm)\n",
    "    print(\"totalsvm: \")\n",
    "    print(totalsvm/count)\n",
    "    print \"\\n\"\n",
    "    print(\"totalMatNB: \")\n",
    "    print(totalMatNB)\n",
    "    print(\"totalNB: \")\n",
    "    print(totalNB/count)\n",
    "    print \"\\n\"\n",
    "    print(\"totalMatRbf: \")\n",
    "    print(totalMatRbf)\n",
    "    print(\"totalrbf: \")\n",
    "    print(totalrbf/count)\n",
    "    print \"\\n\""
   ]
  },
  {
   "cell_type": "code",
   "execution_count": null,
   "metadata": {
    "collapsed": true
   },
   "outputs": [],
   "source": []
  }
 ],
 "metadata": {
  "kernelspec": {
   "display_name": "Python 2",
   "language": "python",
   "name": "python2"
  },
  "language_info": {
   "codemirror_mode": {
    "name": "ipython",
    "version": 2
   },
   "file_extension": ".py",
   "mimetype": "text/x-python",
   "name": "python",
   "nbconvert_exporter": "python",
   "pygments_lexer": "ipython2",
   "version": "2.7.13"
  }
 },
 "nbformat": 4,
 "nbformat_minor": 2
}

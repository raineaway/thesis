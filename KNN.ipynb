{
 "cells": [
  {
   "cell_type": "markdown",
   "metadata": {},
   "source": [
    "# KNN\n",
    "\n",
    "\n",
    "### Feature Extraction methods\n",
    "TFIDF\n",
    "Token Count\n",
    "LIWC\n",
    "\n",
    "\n",
    "### Description\n",
    "The performances of these feature extraction methods are compared to identify which one has yields the best accuracies."
   ]
  },
  {
   "cell_type": "code",
   "execution_count": 12,
   "metadata": {
    "collapsed": true
   },
   "outputs": [],
   "source": [
    "import os\n",
    "import numpy as np\n",
    "from sklearn.naive_bayes import MultinomialNB\n",
    "from sklearn.metrics import confusion_matrix\n",
    "from sklearn.neighbors import KNeighborsClassifier\n",
    "from sklearn.feature_extraction.text import TfidfVectorizer, CountVectorizer\n",
    "from sklearn.model_selection import StratifiedKFold\n",
    "\n",
    "import pandas as pd\n",
    "import pprint\n",
    "from ast import literal_eval"
   ]
  },
  {
   "cell_type": "code",
   "execution_count": 13,
   "metadata": {
    "collapsed": false
   },
   "outputs": [],
   "source": [
    "corpus = pd.read_csv('gm_fake_or_real.csv');"
   ]
  },
  {
   "cell_type": "code",
   "execution_count": 14,
   "metadata": {
    "collapsed": false
   },
   "outputs": [
    {
     "name": "stdout",
     "output_type": "stream",
     "text": [
      "Total number of articles: 6299\n"
     ]
    }
   ],
   "source": [
    "data = []\n",
    "labels = []\n",
    "for news in corpus['text']:\n",
    "    data.append(news)\n",
    "\n",
    "for news in corpus['class']:\n",
    "    labels.append(news)\n",
    "\n",
    "print \"Total number of articles: \" + str(len(data))"
   ]
  },
  {
   "cell_type": "markdown",
   "metadata": {},
   "source": [
    "## Training and Validation"
   ]
  },
  {
   "cell_type": "code",
   "execution_count": 16,
   "metadata": {
    "collapsed": false
   },
   "outputs": [
    {
     "name": "stdout",
     "output_type": "stream",
     "text": [
      "*************************************************\n",
      "Running validation on k = 2\n",
      "\n",
      "\n",
      "=============================================\n",
      "Feature extraction: TFIDF\n",
      "\n",
      "totalMat: \n",
      "[[ 2815.   356.]\n",
      " [  420.  2708.]]\n",
      "total: \n",
      "0.876805842197\n",
      "=============================================\n",
      "Feature extraction: Token Count\n",
      "\n",
      "\n",
      "totalMat: \n",
      "[[ 2409.   762.]\n",
      " [  705.  2423.]]\n",
      "total: \n",
      "0.767105889824\n",
      "*************************************************\n",
      "Running validation on k = 3\n",
      "\n",
      "\n",
      "=============================================\n",
      "Feature extraction: TFIDF\n",
      "\n",
      "totalMat: \n",
      "[[ 1967.  1204.]\n",
      " [  259.  2869.]]\n",
      "total: \n",
      "0.767740911256\n",
      "=============================================\n",
      "Feature extraction: Token Count\n",
      "\n",
      "\n",
      "totalMat: \n",
      "[[ 2454.   717.]\n",
      " [  631.  2497.]]\n",
      "total: \n",
      "0.785997777425\n",
      "*************************************************\n",
      "Running validation on k = 10\n",
      "\n",
      "\n",
      "=============================================\n",
      "Feature extraction: TFIDF\n",
      "\n",
      "totalMat: \n",
      "[[ 2799.   372.]\n",
      " [  261.  2867.]]\n",
      "total: \n",
      "0.89950785839\n",
      "=============================================\n",
      "Feature extraction: Token Count\n",
      "\n",
      "\n",
      "totalMat: \n",
      "[[ 2519.   652.]\n",
      " [  607.  2521.]]\n",
      "total: \n",
      "0.800127004286\n"
     ]
    }
   ],
   "source": [
    "#Stratified 10-cross fold validation with SVM and Multinomial NB \n",
    "      \n",
    "kvalues = [2, 3, 10]\n",
    "count = float(len(data))\n",
    "\n",
    "for k in kvalues:\n",
    "\n",
    "    print \"*************************************************\"\n",
    "    print \"Running validation on k = \" + str(k)\n",
    "    \n",
    "    kf = StratifiedKFold(n_splits=k)\n",
    "    \n",
    "\n",
    "    print \"\\n\"\n",
    "    print \"=============================================\"\n",
    "    print \"Feature extraction: TFIDF\\n\"\n",
    "    \n",
    "    total = 0           # Accuracy measure\n",
    "    totalMat = np.zeros((2,2));  # Confusion matrix\n",
    "    \n",
    "    for train_index, test_index in kf.split(data,labels):\n",
    "        X_train = [data[i] for i in train_index]\n",
    "        X_test = [data[i] for i in test_index]\n",
    "        y_train = [labels[i] for i in train_index]\n",
    "        y_test = [labels[i] for i in test_index]\n",
    "    \n",
    "        vectorizer = TfidfVectorizer(min_df=5,\n",
    "                                     max_df = 0.8,\n",
    "                                     sublinear_tf=True,\n",
    "                                     use_idf=True,\n",
    "                                     stop_words='english',\n",
    "                                     token_pattern=ur'(?u)\\b[^\\W\\d][^\\W\\d]+\\b')\n",
    "\n",
    "        train_corpus_tf_idf = vectorizer.fit_transform(X_train) \n",
    "        test_corpus_tf_idf = vectorizer.transform(X_test)\n",
    "    \n",
    "        model = KNeighborsClassifier(n_neighbors=3)\n",
    "\n",
    "        model.fit(train_corpus_tf_idf,y_train)\n",
    "        \n",
    "        result = model.predict(test_corpus_tf_idf)\n",
    "        \n",
    "        totalMat = totalMat + confusion_matrix(y_test, result)\n",
    "        \n",
    "        total = total+sum(y_test==result)\n",
    "                \n",
    "    print(\"totalMat: \")\n",
    "    print(totalMat)\n",
    "    print(\"total: \")\n",
    "    print(total/count)\n",
    "    \n",
    "    \n",
    "    \n",
    "    print \"=============================================\"\n",
    "    print \"Feature extraction: Token Count\"\n",
    "    print \"\\n\"\n",
    "    \n",
    "    total = 0           # Accuracy measure\n",
    "    totalMat = np.zeros((2,2));  # Confusion matrix\n",
    "    \n",
    "    for train_index, test_index in kf.split(data,labels):\n",
    "        X_train = [data[i] for i in train_index]\n",
    "        X_test = [data[i] for i in test_index]\n",
    "        y_train = [labels[i] for i in train_index]\n",
    "        y_test = [labels[i] for i in test_index]\n",
    "    \n",
    "        vectorizer = CountVectorizer(min_df=5,\n",
    "                                     max_df = 0.8,\n",
    "                                     stop_words='english',\n",
    "                                     token_pattern=ur'(?u)\\b[^\\W\\d][^\\W\\d]+\\b')\n",
    "        train_corpus_tf_idf = vectorizer.fit_transform(X_train) \n",
    "        test_corpus_tf_idf = vectorizer.transform(X_test)\n",
    "        \n",
    "        model = KNeighborsClassifier(n_neighbors=3)\n",
    "\n",
    "        model.fit(train_corpus_tf_idf,y_train)\n",
    "        \n",
    "        result = model.predict(test_corpus_tf_idf)\n",
    "        \n",
    "        totalMat = totalMat + confusion_matrix(y_test, result)\n",
    "        \n",
    "        total = total+sum(y_test==result)\n",
    "                \n",
    "    print(\"totalMat: \")\n",
    "    print(totalMat)\n",
    "    print(\"total: \")\n",
    "    print(total/count)"
   ]
  }
 ],
 "metadata": {
  "kernelspec": {
   "display_name": "Python 2",
   "language": "python",
   "name": "python2"
  },
  "language_info": {
   "codemirror_mode": {
    "name": "ipython",
    "version": 2
   },
   "file_extension": ".py",
   "mimetype": "text/x-python",
   "name": "python",
   "nbconvert_exporter": "python",
   "pygments_lexer": "ipython2",
   "version": "2.7.13"
  }
 },
 "nbformat": 4,
 "nbformat_minor": 2
}

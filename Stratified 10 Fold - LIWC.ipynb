{
 "cells": [
  {
   "cell_type": "markdown",
   "metadata": {},
   "source": [
    "# Stratified k-Fold Cross Validation\n",
    "\n",
    "\n",
    "### Machine Learning Models:\n",
    "SVM (linear)\n",
    "SVM (RBF)\n",
    "Naive Bayes\n",
    "\n",
    "\n",
    "### Description\n",
    "These feature extraction methods and machine learning models are combined and ran using k-fold cross validation, with values of k = 2, 3, and 10. Feature statistics are also extracted for further analysis."
   ]
  },
  {
   "cell_type": "markdown",
   "metadata": {},
   "source": [
    "Import the required packages."
   ]
  },
  {
   "cell_type": "code",
   "execution_count": 1,
   "metadata": {
    "collapsed": true
   },
   "outputs": [],
   "source": [
    "import os\n",
    "import numpy as np\n",
    "from sklearn.naive_bayes import MultinomialNB\n",
    "from sklearn.metrics import confusion_matrix\n",
    "from sklearn.svm import LinearSVC, SVC\n",
    "from sklearn.model_selection import StratifiedKFold\n",
    "\n",
    "import pandas as pd\n",
    "import pprint\n",
    "from ast import literal_eval"
   ]
  },
  {
   "cell_type": "markdown",
   "metadata": {},
   "source": [
    "Read the dataset, and create the data and label arrays."
   ]
  },
  {
   "cell_type": "code",
   "execution_count": 24,
   "metadata": {
    "collapsed": false
   },
   "outputs": [
    {
     "name": "stdout",
     "output_type": "stream",
     "text": [
      "Total number of documents: 6294\n"
     ]
    }
   ],
   "source": [
    "corpus = pd.read_csv('gm_test_liwc_all.csv');\n",
    "\n",
    "labels = []\n",
    "for news in corpus['class']:\n",
    "    labels.append(news)\n",
    "\n",
    "del corpus['class']\n",
    "data = corpus.values.tolist()\n",
    "\n",
    "print \"Total number of documents: \" + str(len(data))"
   ]
  },
  {
   "cell_type": "markdown",
   "metadata": {},
   "source": [
    "## Training and Validation"
   ]
  },
  {
   "cell_type": "code",
   "execution_count": 26,
   "metadata": {
    "collapsed": false
   },
   "outputs": [
    {
     "name": "stdout",
     "output_type": "stream",
     "text": [
      "*************************************************\n",
      "Running validation on k = 2\n",
      "\n",
      "\n",
      "=============================================\n",
      "totalMatSvm: \n",
      "[[ 3098.    73.]\n",
      " [  124.  2999.]]\n",
      "totalsvm: \n",
      "0.968700349539\n",
      "\n",
      "\n",
      "totalMatNB: \n",
      "[[ 2362.   809.]\n",
      " [  337.  2786.]]\n",
      "totalNB: \n",
      "0.817921830315\n",
      "\n",
      "\n",
      "totalMatRbf: \n",
      "[[  241.  2930.]\n",
      " [    0.  3123.]]\n",
      "totalrbf: \n",
      "0.534477279949\n",
      "\n",
      "\n",
      "*************************************************\n",
      "Running validation on k = 3\n",
      "\n",
      "\n",
      "=============================================\n",
      "totalMatSvm: \n",
      "[[ 3099.    72.]\n",
      " [  152.  2971.]]\n",
      "totalsvm: \n",
      "0.96441054973\n",
      "\n",
      "\n",
      "totalMatNB: \n",
      "[[ 2362.   809.]\n",
      " [  338.  2785.]]\n",
      "totalNB: \n",
      "0.81776294884\n",
      "\n",
      "\n",
      "totalMatRbf: \n",
      "[[  276.  2895.]\n",
      " [    0.  3123.]]\n",
      "totalrbf: \n",
      "0.540038131554\n",
      "\n",
      "\n",
      "*************************************************\n",
      "Running validation on k = 10\n",
      "\n",
      "\n",
      "=============================================\n",
      "totalMatSvm: \n",
      "[[ 3022.   149.]\n",
      " [   99.  3024.]]\n",
      "totalsvm: \n",
      "0.960597394344\n",
      "\n",
      "\n",
      "totalMatNB: \n",
      "[[ 2360.   811.]\n",
      " [  337.  2786.]]\n",
      "totalNB: \n",
      "0.817604067366\n",
      "\n",
      "\n",
      "totalMatRbf: \n",
      "[[  283.  2888.]\n",
      " [    0.  3123.]]\n",
      "totalrbf: \n",
      "0.541150301875\n",
      "\n",
      "\n"
     ]
    }
   ],
   "source": [
    "#Stratified 10-cross fold validation with SVM and Multinomial NB \n",
    "      \n",
    "kvalues = [2, 3, 10]\n",
    "count = float(len(data2))\n",
    "\n",
    "for k in kvalues:\n",
    "\n",
    "    print \"*************************************************\"\n",
    "    print \"Running validation on k = \" + str(k)\n",
    "    \n",
    "    kf = StratifiedKFold(n_splits=k)\n",
    "\n",
    "    \n",
    "    print \"\\n\"\n",
    "    print \"=============================================\"\n",
    "    \n",
    "    totalsvm = 0           # Accuracy measure\n",
    "    totalNB = 0\n",
    "    totalrbf = 0\n",
    "    totalMatSvm = np.zeros((2,2));  # Confusion matrix\n",
    "    totalMatNB = np.zeros((2,2));\n",
    "    totalMatRbf = np.zeros((2,2));\n",
    "\n",
    "    for train_index, test_index in kf.split(data,labels):\n",
    "        X_train = [data[i] for i in train_index]\n",
    "        X_test = [data[i] for i in test_index]\n",
    "        y_train = [labels[i] for i in train_index]\n",
    "        y_test = [labels[i] for i in test_index]\n",
    "        \n",
    "        model1 = LinearSVC()\n",
    "        model2 = MultinomialNB() \n",
    "        model3 = SVC()\n",
    "    \n",
    "        model1.fit(X_train,y_train)\n",
    "        model2.fit(X_train,y_train)\n",
    "        model3.fit(X_train,y_train)\n",
    "    \n",
    "        result1 = model1.predict(X_test)\n",
    "        result2 = model2.predict(X_test)\n",
    "        result3 = model3.predict(X_test)\n",
    "    \n",
    "        totalMatSvm = totalMatSvm + confusion_matrix(y_test, result1)\n",
    "        totalMatNB = totalMatNB + confusion_matrix(y_test, result2)\n",
    "        totalMatRbf = totalMatRbf + confusion_matrix(y_test, result3)\n",
    "        \n",
    "        totalsvm = totalsvm+sum(y_test==result1)\n",
    "        totalNB = totalNB+sum(y_test==result2)\n",
    "        totalrbf = totalrbf+sum(y_test==result3)\n",
    "        \n",
    "    print(\"totalMatSvm: \")\n",
    "    print(totalMatSvm)\n",
    "    print(\"totalsvm: \")\n",
    "    print(totalsvm/count)\n",
    "    print \"\\n\"\n",
    "    print(\"totalMatNB: \")\n",
    "    print(totalMatNB)\n",
    "    print(\"totalNB: \")\n",
    "    print(totalNB/count)\n",
    "    print \"\\n\"\n",
    "    print(\"totalMatRbf: \")\n",
    "    print(totalMatRbf)\n",
    "    print(\"totalrbf: \")\n",
    "    print(totalrbf/count)\n",
    "    print \"\\n\"\n",
    "    "
   ]
  }
 ],
 "metadata": {
  "kernelspec": {
   "display_name": "Python 2",
   "language": "python",
   "name": "python2"
  },
  "language_info": {
   "codemirror_mode": {
    "name": "ipython",
    "version": 2
   },
   "file_extension": ".py",
   "mimetype": "text/x-python",
   "name": "python",
   "nbconvert_exporter": "python",
   "pygments_lexer": "ipython2",
   "version": "2.7.13"
  }
 },
 "nbformat": 4,
 "nbformat_minor": 2
}

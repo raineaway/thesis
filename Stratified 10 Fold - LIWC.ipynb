{
 "cells": [
  {
   "cell_type": "markdown",
   "metadata": {},
   "source": [
    "# Stratified k-Fold Cross Validation\n",
    "\n",
    "\n",
    "### Machine Learning Models:\n",
    "SVM (linear)\n",
    "SVM (RBF)\n",
    "Naive Bayes\n",
    "\n",
    "\n",
    "### Description\n",
    "These feature extraction methods and machine learning models are combined and ran using k-fold cross validation, with values of k = 2, 3, and 10. Feature statistics are also extracted for further analysis."
   ]
  },
  {
   "cell_type": "markdown",
   "metadata": {},
   "source": [
    "Import the required packages."
   ]
  },
  {
   "cell_type": "code",
   "execution_count": null,
   "metadata": {
    "collapsed": true
   },
   "outputs": [],
   "source": [
    "import os\n",
    "import numpy as np\n",
    "from sklearn.naive_bayes import MultinomialNB\n",
    "from sklearn.metrics import confusion_matrix\n",
    "from sklearn.svm import LinearSVC, SVC\n",
    "from sklearn.model_selection import StratifiedKFold\n",
    "\n",
    "import pandas as pd\n",
    "import pprint\n",
    "from ast import literal_eval"
   ]
  },
  {
   "cell_type": "markdown",
   "metadata": {},
   "source": [
    "Read the dataset, and create the data and label arrays."
   ]
  },
  {
   "cell_type": "code",
   "execution_count": null,
   "metadata": {
    "collapsed": false
   },
   "outputs": [],
   "source": [
    "corpus = pd.read_csv('gm_test_liwc_all.csv');\n",
    "\n",
    "labels = []\n",
    "for news in corpus['class']:\n",
    "    labels.append(news)\n",
    "\n",
    "del corpus['class']\n",
    "data = corpus.values.tolist()\n",
    "\n",
    "print \"Total number of documents: \" + str(len(data))"
   ]
  },
  {
   "cell_type": "markdown",
   "metadata": {},
   "source": [
    "## Training and Validation"
   ]
  },
  {
   "cell_type": "code",
   "execution_count": null,
   "metadata": {
    "collapsed": false
   },
   "outputs": [],
   "source": [
    "#Stratified 10-cross fold validation with SVM and Multinomial NB \n",
    "      \n",
    "kvalues = [2, 3, 10]\n",
    "count = float(len(data))\n",
    "\n",
    "for k in kvalues:\n",
    "\n",
    "    print \"*************************************************\"\n",
    "    print \"Running validation on k = \" + str(k)\n",
    "    \n",
    "    kf = StratifiedKFold(n_splits=k)\n",
    "\n",
    "    \n",
    "    print \"\\n\"\n",
    "    print \"=============================================\"\n",
    "    \n",
    "    totalsvm = 0           # Accuracy measure\n",
    "    totalNB = 0\n",
    "    totalrbf = 0\n",
    "    totalMatSvm = np.zeros((2,2));  # Confusion matrix\n",
    "    totalMatNB = np.zeros((2,2));\n",
    "    totalMatRbf = np.zeros((2,2));\n",
    "\n",
    "    for train_index, test_index in kf.split(data,labels):\n",
    "        X_train = [data[i] for i in train_index]\n",
    "        X_test = [data[i] for i in test_index]\n",
    "        y_train = [labels[i] for i in train_index]\n",
    "        y_test = [labels[i] for i in test_index]\n",
    "        \n",
    "        model1 = LinearSVC()\n",
    "        model2 = MultinomialNB() \n",
    "        model3 = SVC(probability=True, C=1000)\n",
    "    \n",
    "        model1.fit(X_train,y_train)\n",
    "        model2.fit(X_train,y_train)\n",
    "        model3.fit(X_train,y_train)\n",
    "    \n",
    "        result1 = model1.predict(X_test)\n",
    "        result2 = model2.predict(X_test)\n",
    "        result3 = model3.predict(X_test)\n",
    "    \n",
    "        totalMatSvm = totalMatSvm + confusion_matrix(y_test, result1)\n",
    "        totalMatNB = totalMatNB + confusion_matrix(y_test, result2)\n",
    "        totalMatRbf = totalMatRbf + confusion_matrix(y_test, result3)\n",
    "        \n",
    "        totalsvm = totalsvm+sum(y_test==result1)\n",
    "        totalNB = totalNB+sum(y_test==result2)\n",
    "        totalrbf = totalrbf+sum(y_test==result3)\n",
    "        \n",
    "    print(\"totalMatSvm: \")\n",
    "    print(totalMatSvm)\n",
    "    print(\"totalsvm: \")\n",
    "    print(totalsvm/count)\n",
    "    print \"\\n\"\n",
    "    print(\"totalMatNB: \")\n",
    "    print(totalMatNB)\n",
    "    print(\"totalNB: \")\n",
    "    print(totalNB/count)\n",
    "    print \"\\n\"\n",
    "    print(\"totalMatRbf: \")\n",
    "    print(totalMatRbf)\n",
    "    print(\"totalrbf: \")\n",
    "    print(totalrbf/count)\n",
    "    print \"\\n\"\n",
    "    "
   ]
  }
 ],
 "metadata": {
  "kernelspec": {
   "display_name": "Python 2",
   "language": "python",
   "name": "python2"
  },
  "language_info": {
   "codemirror_mode": {
    "name": "ipython",
    "version": 2
   },
   "file_extension": ".py",
   "mimetype": "text/x-python",
   "name": "python",
   "nbconvert_exporter": "python",
   "pygments_lexer": "ipython2",
   "version": "2.7.13"
  }
 },
 "nbformat": 4,
 "nbformat_minor": 2
}
